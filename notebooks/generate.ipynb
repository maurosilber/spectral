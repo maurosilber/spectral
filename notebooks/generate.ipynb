{
 "cells": [
  {
   "cell_type": "code",
   "execution_count": null,
   "metadata": {},
   "outputs": [],
   "source": [
    "from pathlib import Path\n",
    "from typing import Sequence\n",
    "\n",
    "import matplotlib.pyplot as plt\n",
    "import numpy as np\n",
    "import xarray\n",
    "from matplotlib.colors import LogNorm\n",
    "from skimage import color, data, filters\n",
    "from skimage.transform import resize\n",
    "from spectral import io, mixing, unmixing\n",
    "from spectral.binlets.components import binlets_components_transform\n",
    "from spectral.binlets.independent import binlets_independent_components, binlets_poisson\n",
    "\n",
    "data_dir = Path(\"../data/\")\n",
    "\n",
    "\n",
    "class Dim:\n",
    "    spectrum = \"spectrum\"\n",
    "    components = \"components\"\n",
    "\n",
    "\n",
    "DATA_NAMES = [\n",
    "    \"astronaut\",\n",
    "    \"camera\",\n",
    "    \"cat\",\n",
    "    \"coffee\",\n",
    "    \"eagle\",\n",
    "    \"grass\",\n",
    "    \"gravel\",\n",
    "    \"rocket\",\n",
    "]\n",
    "\n",
    "\n",
    "def build_components(\n",
    "    *,\n",
    "    shape: tuple[int, int],\n",
    "    dim: str,\n",
    "    order: Sequence[str],\n",
    "    sigma: float = 0,\n",
    "):\n",
    "    assert len(order) <= len(DATA_NAMES), \"Not enough stock images\"\n",
    "\n",
    "    def get_image(name: str):\n",
    "        image: np.ndarray = getattr(data, name)()\n",
    "        if image.ndim == 3:\n",
    "            image = color.rgb2gray(image)\n",
    "        image = resize(image, shape).astype(np.float64)\n",
    "        if sigma > 0:\n",
    "            image = filters.gaussian(image, sigma)\n",
    "        return image\n",
    "\n",
    "    images = np.empty((len(order), *shape), dtype=np.float64)\n",
    "    for ndx, name in enumerate(DATA_NAMES[: len(order)]):\n",
    "        images[ndx] = get_image(name)\n",
    "\n",
    "    return xarray.DataArray(\n",
    "        images,\n",
    "        coords={dim: order},\n",
    "        dims=[dim, \"y\", \"x\"],\n",
    "    )"
   ]
  },
  {
   "cell_type": "code",
   "execution_count": null,
   "metadata": {},
   "outputs": [],
   "source": [
    "calibration = io.load_calibration(\n",
    "    data_dir / \"reference spectra (original).xlsx\",\n",
    "    input_name=Dim.spectrum,\n",
    "    output_name=Dim.components,\n",
    ")"
   ]
  },
  {
   "cell_type": "markdown",
   "metadata": {},
   "source": [
    "## Ground truth"
   ]
  },
  {
   "cell_type": "code",
   "execution_count": null,
   "metadata": {},
   "outputs": [],
   "source": [
    "class GroundTruth:\n",
    "    components = build_components(\n",
    "        shape=(256, 256),\n",
    "        dim=Dim.components,\n",
    "        order=calibration.coords[Dim.components],\n",
    "        sigma=0,\n",
    "    )\n",
    "    spectrum = mixing.matmul(calibration, components)"
   ]
  },
  {
   "cell_type": "markdown",
   "metadata": {},
   "source": [
    "## Measurement"
   ]
  },
  {
   "cell_type": "code",
   "execution_count": null,
   "metadata": {},
   "outputs": [],
   "source": [
    "rng = np.random.default_rng(0)\n",
    "\n",
    "\n",
    "class Measured:\n",
    "    spectrum = xarray.apply_ufunc(rng.poisson, GroundTruth.spectrum)\n",
    "    components = unmixing.lstsq(calibration, spectrum)\n",
    "    components_weighted = unmixing.weighted_least_squares(calibration, spectrum)"
   ]
  },
  {
   "cell_type": "markdown",
   "metadata": {},
   "source": [
    "## Denoising"
   ]
  },
  {
   "cell_type": "code",
   "execution_count": null,
   "metadata": {},
   "outputs": [],
   "source": [
    "sigma = 3"
   ]
  },
  {
   "cell_type": "code",
   "execution_count": null,
   "metadata": {},
   "outputs": [],
   "source": [
    "class ContinuousSpectrum:\n",
    "    spectrum = binlets_poisson(\n",
    "        Measured.spectrum,\n",
    "        sigma=sigma,\n",
    "        dim=None,\n",
    "        independent=True,\n",
    "    )\n",
    "    components = unmixing.lstsq(calibration, spectrum)\n",
    "    components_weighted = unmixing.weighted_least_squares(calibration, spectrum)"
   ]
  },
  {
   "cell_type": "code",
   "execution_count": null,
   "metadata": {},
   "outputs": [],
   "source": [
    "class FullSpectrum:\n",
    "    spectrum = binlets_poisson(\n",
    "        Measured.spectrum,\n",
    "        sigma=sigma,\n",
    "        dim=Dim.spectrum,\n",
    "        independent=False,\n",
    "    )\n",
    "    components = unmixing.lstsq(calibration, spectrum)\n",
    "    components_weighted = unmixing.weighted_least_squares(calibration, spectrum)"
   ]
  },
  {
   "cell_type": "code",
   "execution_count": null,
   "metadata": {},
   "outputs": [],
   "source": [
    "class SingleSpectrum:\n",
    "    spectrum = binlets_poisson(\n",
    "        Measured.spectrum,\n",
    "        sigma=sigma,\n",
    "        dim=Dim.spectrum,\n",
    "        independent=True,\n",
    "    )\n",
    "    components = unmixing.lstsq(calibration, spectrum)\n",
    "    components_weighted = unmixing.weighted_least_squares(calibration, spectrum)"
   ]
  },
  {
   "cell_type": "code",
   "execution_count": null,
   "metadata": {},
   "outputs": [],
   "source": [
    "class SingleComponent:\n",
    "    components = components_weighted = binlets_independent_components(\n",
    "        calibration,\n",
    "        Measured.spectrum,\n",
    "        sigma=sigma,\n",
    "    )"
   ]
  },
  {
   "cell_type": "code",
   "execution_count": null,
   "metadata": {},
   "outputs": [],
   "source": [
    "class FullComponent:\n",
    "    spectrum = binlets_components_transform(\n",
    "        Measured.spectrum,\n",
    "        sigma=sigma,\n",
    "        dim=Dim.spectrum,\n",
    "        calibration=calibration,\n",
    "    )\n",
    "    components = unmixing.lstsq(calibration, spectrum)\n",
    "    components_weighted = unmixing.weighted_least_squares(calibration, spectrum)"
   ]
  },
  {
   "cell_type": "markdown",
   "metadata": {},
   "source": [
    "## Results"
   ]
  },
  {
   "cell_type": "code",
   "execution_count": null,
   "metadata": {},
   "outputs": [],
   "source": [
    "methods = [\n",
    "    SingleSpectrum,\n",
    "    ContinuousSpectrum,\n",
    "    FullSpectrum,\n",
    "    SingleComponent,\n",
    "    FullComponent,\n",
    "]"
   ]
  },
  {
   "cell_type": "code",
   "execution_count": null,
   "metadata": {},
   "outputs": [],
   "source": [
    "GroundTruth.components.plot.imshow(col=\"components\")\n",
    "GroundTruth.spectrum.isel({Dim.spectrum: slice(None, None, 8)}).plot.imshow(\n",
    "    col=Dim.spectrum\n",
    ")"
   ]
  },
  {
   "cell_type": "code",
   "execution_count": null,
   "metadata": {},
   "outputs": [],
   "source": [
    "def plot():\n",
    "    fig, axes = plt.subplots(\n",
    "        nrows=len(methods),\n",
    "        ncols=8,\n",
    "        sharex=\"col\",\n",
    "        sharey=\"col\",\n",
    "        figsize=(12, 6),\n",
    "    )\n",
    "\n",
    "    x = Measured.components_weighted - GroundTruth.components\n",
    "\n",
    "    for axrow, method in zip(axes, methods):\n",
    "        axrow[0].set_ylabel(method.__name__, rotation=0, ha=\"right\")\n",
    "\n",
    "        y = method.components_weighted - GroundTruth.components\n",
    "        for ax, k in zip(axrow, calibration.coords[Dim.components].values):\n",
    "            ax.set(aspect=\"equal\")\n",
    "            sel = {Dim.components: k}\n",
    "            xr = x.sel(sel).values.ravel()\n",
    "            yr = y.sel(sel).values.ravel()\n",
    "            ax.hist2d(xr, yr, bins=100, norm=LogNorm())\n",
    "            ax.axline((0, 0), slope=1, color=\"red\")\n",
    "\n",
    "    for ax, k in zip(axes[0], calibration.coords[Dim.components].values):\n",
    "        ax.set(title=k)\n",
    "\n",
    "\n",
    "plot()"
   ]
  },
  {
   "cell_type": "code",
   "execution_count": null,
   "metadata": {},
   "outputs": [],
   "source": [
    "import pandas as pd\n",
    "\n",
    "\n",
    "def yield_cov():\n",
    "    x = Measured.components_weighted - GroundTruth.components\n",
    "\n",
    "    for method in methods:\n",
    "        y = method.components_weighted - GroundTruth.components\n",
    "        for k in calibration.coords[Dim.components].values:\n",
    "            sel = {Dim.components: k}\n",
    "            xr = x.sel(sel).values.ravel()\n",
    "            yr = y.sel(sel).values.ravel()\n",
    "            var_x, var_y = np.diag(np.cov(xr, yr))\n",
    "            cov_ratio = (var_x / var_y) ** 0.5\n",
    "            yield {\"method\": method.__name__, \"channel\": k, \"MRSE ratio\": cov_ratio}\n",
    "\n",
    "\n",
    "cov_ratios = pd.DataFrame(yield_cov())\n",
    "cov_ratios.pivot(index=\"method\", columns=\"channel\").round(3).loc[\n",
    "    [m.__name__ for m in methods]\n",
    "]"
   ]
  }
 ],
 "metadata": {
  "kernelspec": {
   "display_name": "sci310",
   "language": "python",
   "name": "python3"
  },
  "language_info": {
   "codemirror_mode": {
    "name": "ipython",
    "version": 3
   },
   "file_extension": ".py",
   "mimetype": "text/x-python",
   "name": "python",
   "nbconvert_exporter": "python",
   "pygments_lexer": "ipython3",
   "version": "3.12.1"
  }
 },
 "nbformat": 4,
 "nbformat_minor": 2
}
