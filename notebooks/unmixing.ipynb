{
 "cells": [
  {
   "cell_type": "code",
   "execution_count": null,
   "metadata": {},
   "outputs": [],
   "source": [
    "from pathlib import Path\n",
    "\n",
    "import matplotlib.pyplot as plt\n",
    "import numpy as np\n",
    "import xarray\n",
    "from matplotlib.colors import LogNorm\n",
    "from spectral import io\n",
    "\n",
    "data_dir = Path(\"../data/\")\n",
    "\n",
    "\n",
    "class Dim:\n",
    "    spectrum = \"spectrum\"\n",
    "    components = \"components\""
   ]
  },
  {
   "cell_type": "code",
   "execution_count": null,
   "metadata": {},
   "outputs": [],
   "source": [
    "crop_rectangles = dict(io.yield_crop_rectangles(data_dir / \"crop rectangles.txt\"))\n",
    "\n",
    "calibration = io.load_calibration(\n",
    "    data_dir / \"reference spectra (original).xlsx\",\n",
    "    input_name=Dim.spectrum,\n",
    "    output_name=Dim.components,\n",
    ")\n",
    "\n",
    "orig = io.read_stack(\n",
    "    data_dir / \"FOV 01751/orig\",\n",
    "    dim=Dim.spectrum,\n",
    ").isel(crop_rectangles[\"FOV 01751\"])\n",
    "\n",
    "unmixed_reference = io.read_stack(\n",
    "    data_dir / \"FOV 01751/unmixed - using original ref spectra\",\n",
    "    dim=Dim.components,\n",
    ")"
   ]
  },
  {
   "cell_type": "markdown",
   "metadata": {},
   "source": [
    "## Unmixing with lstsq"
   ]
  },
  {
   "cell_type": "code",
   "execution_count": null,
   "metadata": {},
   "outputs": [],
   "source": [
    "def unmixing_with_lstsq(\n",
    "    A: xarray.DataArray,\n",
    "    b: xarray.DataArray,\n",
    ") -> xarray.DataArray:\n",
    "    if A.dims[0] in b.dims:\n",
    "        common_dim, output_dim = A.dims\n",
    "    else:\n",
    "        common_dim, output_dim = A.dims[::-1]\n",
    "    remaining_dims = [d for d in b.dims if d != common_dim]\n",
    "\n",
    "    A = A.transpose(common_dim, output_dim)\n",
    "    b = b.transpose(common_dim, *remaining_dims)\n",
    "    x = np.linalg.lstsq(\n",
    "        A.values,\n",
    "        b.values.reshape(A.values.shape[0], -1),\n",
    "        rcond=None,\n",
    "    )[0].reshape(A.values.shape[1], *b.values.shape[1:])\n",
    "    return xarray.DataArray(\n",
    "        x,\n",
    "        coords={output_dim: A.coords[output_dim]},\n",
    "        dims=[output_dim, *remaining_dims],\n",
    "    )"
   ]
  },
  {
   "cell_type": "code",
   "execution_count": null,
   "metadata": {},
   "outputs": [],
   "source": [
    "unmixed_with_lstsq = unmixing_with_lstsq(calibration, orig)"
   ]
  },
  {
   "cell_type": "code",
   "execution_count": null,
   "metadata": {},
   "outputs": [],
   "source": [
    "(unmixed_with_lstsq - unmixed_reference).plot.imshow(col=\"components\", col_wrap=3)"
   ]
  },
  {
   "cell_type": "code",
   "execution_count": null,
   "metadata": {},
   "outputs": [],
   "source": [
    "fig, axes = plt.subplots(3, 8, sharex=True, sharey=True, figsize=(12, 5))\n",
    "\n",
    "for ax, c in zip(axes.T, unmixed_reference.coords[\"components\"].values):\n",
    "    x = unmixed_reference.sel(components=c)\n",
    "    y = unmixed_with_lstsq.sel(components=c)\n",
    "    ax[0].set(title=c)\n",
    "    ax[0].imshow(x)\n",
    "    ax[1].imshow(y)\n",
    "    ax[2].imshow(np.log(y / x), cmap=\"seismic\")"
   ]
  },
  {
   "cell_type": "code",
   "execution_count": null,
   "metadata": {},
   "outputs": [],
   "source": [
    "fig, axes = plt.subplots(2, 4, figsize=(12, 4))\n",
    "\n",
    "for ax, c in zip(axes.flat, unmixed_reference.coords[\"components\"].values):\n",
    "    ax.set(title=c)\n",
    "    ax.hist2d(\n",
    "        unmixed_reference.sel(components=c).values.ravel(),\n",
    "        unmixed_with_lstsq.sel(components=c).values.ravel(),\n",
    "        bins=100,\n",
    "        norm=LogNorm(),\n",
    "    )"
   ]
  }
 ],
 "metadata": {
  "kernelspec": {
   "display_name": "spectral",
   "language": "python",
   "name": "python3"
  },
  "language_info": {
   "codemirror_mode": {
    "name": "ipython",
    "version": 3
   },
   "file_extension": ".py",
   "mimetype": "text/x-python",
   "name": "python",
   "nbconvert_exporter": "python",
   "pygments_lexer": "ipython3",
   "version": "3.10.6"
  }
 },
 "nbformat": 4,
 "nbformat_minor": 2
}
