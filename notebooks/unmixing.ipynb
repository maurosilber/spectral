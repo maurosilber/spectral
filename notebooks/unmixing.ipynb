{
 "cells": [
  {
   "cell_type": "code",
   "execution_count": null,
   "metadata": {},
   "outputs": [],
   "source": [
    "from pathlib import Path\n",
    "\n",
    "import matplotlib.pyplot as plt\n",
    "import numpy as np\n",
    "from matplotlib.colors import LogNorm\n",
    "from spectral import io, unmixing\n",
    "\n",
    "data_dir = Path(\"../data/\")\n",
    "\n",
    "\n",
    "class Dim:\n",
    "    spectrum = \"spectrum\"\n",
    "    components = \"components\""
   ]
  },
  {
   "cell_type": "code",
   "execution_count": null,
   "metadata": {},
   "outputs": [],
   "source": [
    "crop_rectangles = dict(io.yield_crop_rectangles(data_dir / \"crop rectangles.txt\"))\n",
    "\n",
    "calibration = io.load_calibration(\n",
    "    data_dir / \"reference spectra (original).xlsx\",\n",
    "    input_name=Dim.spectrum,\n",
    "    output_name=Dim.components,\n",
    ")\n",
    "\n",
    "orig = io.read_stack(\n",
    "    data_dir / \"FOV 01751/orig\",\n",
    "    dim=Dim.spectrum,\n",
    ").isel(crop_rectangles[\"FOV 01751\"])\n",
    "\n",
    "unmixed_reference = io.read_stack(\n",
    "    data_dir / \"FOV 01751/unmixed - using original ref spectra\",\n",
    "    dim=Dim.components,\n",
    ")"
   ]
  },
  {
   "cell_type": "code",
   "execution_count": null,
   "metadata": {},
   "outputs": [],
   "source": [
    "unmixed_with_lstsq = unmixing.lstsq(calibration, orig)"
   ]
  },
  {
   "cell_type": "code",
   "execution_count": null,
   "metadata": {},
   "outputs": [],
   "source": [
    "(unmixed_with_lstsq - unmixed_reference).plot.imshow(col=\"components\", col_wrap=3)"
   ]
  },
  {
   "cell_type": "code",
   "execution_count": null,
   "metadata": {},
   "outputs": [],
   "source": [
    "fig, axes = plt.subplots(3, 8, sharex=True, sharey=True, figsize=(12, 5))\n",
    "\n",
    "for ax, c in zip(axes.T, unmixed_reference.coords[\"components\"].values):\n",
    "    x = unmixed_reference.sel(components=c)\n",
    "    y = unmixed_with_lstsq.sel(components=c)\n",
    "    ax[0].set(title=c)\n",
    "    ax[0].imshow(x)\n",
    "    ax[1].imshow(y)\n",
    "    ax[2].imshow(np.log(y / x), cmap=\"seismic\")"
   ]
  },
  {
   "cell_type": "code",
   "execution_count": null,
   "metadata": {},
   "outputs": [],
   "source": [
    "fig, axes = plt.subplots(2, 4, figsize=(12, 4))\n",
    "\n",
    "for ax, c in zip(axes.flat, unmixed_reference.coords[\"components\"].values):\n",
    "    ax.set(title=c)\n",
    "    ax.hist2d(\n",
    "        unmixed_reference.sel(components=c).values.ravel(),\n",
    "        unmixed_with_lstsq.sel(components=c).values.ravel(),\n",
    "        bins=100,\n",
    "        norm=LogNorm(),\n",
    "    )"
   ]
  }
 ],
 "metadata": {
  "kernelspec": {
   "display_name": "spectral",
   "language": "python",
   "name": "python3"
  },
  "language_info": {
   "codemirror_mode": {
    "name": "ipython",
    "version": 3
   },
   "file_extension": ".py",
   "mimetype": "text/x-python",
   "name": "python",
   "nbconvert_exporter": "python",
   "pygments_lexer": "ipython3",
   "version": "3.12.1"
  }
 },
 "nbformat": 4,
 "nbformat_minor": 2
}
